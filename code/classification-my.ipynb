{
 "cells": [
  {
   "cell_type": "code",
   "execution_count": 148,
   "metadata": {
    "execution": {
     "iopub.execute_input": "2022-12-14T02:27:14.111888Z",
     "iopub.status.busy": "2022-12-14T02:27:14.111457Z",
     "iopub.status.idle": "2022-12-14T02:27:16.410779Z",
     "shell.execute_reply": "2022-12-14T02:27:16.410127Z"
    },
    "id": "L1WtoaOHVrVh"
   },
   "outputs": [],
   "source": [
    "import matplotlib.pyplot as plt\n",
    "import numpy as np\n",
    "import PIL\n",
    "import tensorflow as tf\n",
    "\n",
    "from tensorflow import keras\n",
    "from tensorflow.keras import layers\n",
    "from tensorflow.keras.models import Sequential\n",
    "\n",
    "import matplotlib.pyplot as plt\n",
    "\n",
    "import os\n",
    "\n",
    "import random\n",
    "import cv2"
   ]
  },
  {
   "cell_type": "code",
   "execution_count": 149,
   "metadata": {
    "execution": {
     "iopub.execute_input": "2022-12-14T02:27:16.415184Z",
     "iopub.status.busy": "2022-12-14T02:27:16.414504Z",
     "iopub.status.idle": "2022-12-14T02:27:19.238409Z",
     "shell.execute_reply": "2022-12-14T02:27:19.237733Z"
    },
    "id": "57CcilYSG0zv",
    "scrolled": true
   },
   "outputs": [
    {
     "name": "stdout",
     "output_type": "stream",
     "text": [
      "829\n"
     ]
    }
   ],
   "source": [
    "import pathlib\n",
    "\n",
    "ds_path = \"/Users/mantesssa/Projects/nn/nn_tf/BirdVsDrone/\"\n",
    "# data_dir = tf.keras.utils.get_file('BirdVsDrone', origin=ds_path, untar=True) # Downloads a file from a URL if it not already in the cache.\n",
    "data_dir = pathlib.Path(ds_path)\n",
    "\n",
    "image_count = len(list(data_dir.glob('*/*.*')))\n",
    "# list(data_dir.glob('*/*.JPEG'))# dont work couse have png and JPEG files\n",
    "\n",
    "print(image_count)\n",
    "# list(data_dir.glob('*/*.jpg'))\n",
    "# data_dir"
   ]
  },
  {
   "cell_type": "code",
   "execution_count": 150,
   "metadata": {},
   "outputs": [],
   "source": [
    "# roses = list(data_dir.glob('roses/*'))\n",
    "# roses\n",
    "# PIL.Image.open(str(roses[7]))\n",
    "# PIL.Image.open(str(roses[1]))\n",
    "# tulips = list(data_dir.glob('tulips/*'))\n",
    "# PIL.Image.open(str(tulips[0]))\n",
    "# PIL.Image.open(str(tulips[1]))"
   ]
  },
  {
   "cell_type": "code",
   "execution_count": 151,
   "metadata": {},
   "outputs": [],
   "source": [
    "\n",
    "# dirname = \"/Users/mantesssa/Projects/nn/nn_tf/BirdVsDrone/\"\n",
    "# tree = os.walk(dirname)\n",
    "\n",
    "\n",
    "\n",
    "# fulllist =[]\n",
    "# for i in tree:\n",
    "#     fulllist.append(i)\n",
    "\n",
    "    \n",
    "# listofdronesnames = []\n",
    "# for i in fulllist[1][2]:\n",
    "#     if i[-4:] !='webp':\n",
    "#         listofdronesnames.append(i)  \n",
    "# # listofdronesnames = fulllist[1][2]\n",
    "# listofdroneslabels = [0]*len(listofdronesnames)\n",
    "\n",
    "\n",
    "# listofbirdsnames = []\n",
    "# for i in fulllist[2][2]:\n",
    "#     if i[-4:] !='webp':\n",
    "#         listofbirdsnames.append(i)\n",
    "# # listofbirdsnames = fulllist[2][2]\n",
    "# listofbirdslabels = [1]*len(listofbirdsnames)\n",
    "\n",
    "\n",
    "\n",
    "# fulllistnames = listofdronesnames + listofbirdsnames\n",
    "# fulllistlabels = listofdroneslabels + listofbirdslabels\n",
    "\n",
    "\n",
    "\n",
    "\n",
    "\n",
    "# filenames = tf.constant(fulllistnames)\n",
    "# labels = tf.constant(fulllistlabels)\n",
    "# fulllistlabels\n",
    "# filenames\n",
    "# labels\n",
    "\n",
    "# dataset = tf.data.Dataset.from_tensor_slices((filenames, labels))\n",
    "# fulllistnames # len = 829"
   ]
  },
  {
   "cell_type": "code",
   "execution_count": 152,
   "metadata": {
    "execution": {
     "iopub.execute_input": "2022-12-14T02:27:19.258728Z",
     "iopub.status.busy": "2022-12-14T02:27:19.258305Z",
     "iopub.status.idle": "2022-12-14T02:27:19.283359Z",
     "shell.execute_reply": "2022-12-14T02:27:19.282787Z"
    },
    "id": "N1loMlbYHeiJ"
   },
   "outputs": [],
   "source": [
    "# dataset = 800 indexes from 0 to 799\n",
    "\n",
    "# 0|    0-79\n",
    "# 1|    80-159\n",
    "# 2|    160-239\n",
    "# 3|    240-319\n",
    "# 4|    320-399\n",
    "# 5|    400-479\n",
    "# 6|    480-559\n",
    "# 7|    560-639\n",
    "# 8|    640-719\n",
    "# 9|    720-799\n",
    "\n",
    "\n",
    "# 0 1 2 3 4 5 6 7 8 (9)\n",
    "# 0 1 2 3 4 5 6 7 (8) 9\n",
    "# 0 1 2 3 4 5 6 (7) 8 9\n",
    "# 0 1 2 3 4 5 (6) 7 8 9\n",
    "# 0 1 2 3 4 (5) 6 7 8 9\n",
    "# 0 1 2 3 (4) 5 6 7 8 9\n",
    "# 0 1 2 (3) 4 5 6 7 8 9\n",
    "# 0 1 (2) 3 4 5 6 7 8 9\n",
    "# 0 (1) 2 3 4 5 6 7 8 9\n",
    "# (0) 1 2 3 4 5 6 7 8 9\n",
    "\n",
    "# (0) 1 2 3 4 5 6 7 8 9\n",
    "# 0 (1) 2 3 4 5 6 7 8 9\n",
    "# 0 1 (2) 3 4 5 6 7 8 9\n",
    "# 0 1 2 (3) 4 5 6 7 8 9\n",
    "# 0 1 2 3 (4) 5 6 7 8 9\n",
    "# 0 1 2 3 4 (5) 6 7 8 9\n",
    "# 0 1 2 3 4 5 (6) 7 8 9\n",
    "# 0 1 2 3 4 5 6 (7) 8 9\n",
    "# 0 1 2 3 4 5 6 7 (8) 9\n",
    "# 0 1 2 3 4 5 6 7 8 (9)\n",
    "\n",
    "\n",
    "\n",
    "# class DataGenerator(tf.keras.utils.Sequence):\n",
    "# #     'Generates data for Keras'                      shufled list of indexes\n",
    "#     def __init__(self, fulllistnames, fulllistlabels, list_IDs, is_validation=False, \n",
    "#                  batch_size=80, dim=(None, 180, 180, 3), n_channels=1, n_classes=2):\n",
    "#         'Initialization'\n",
    "#         self.fulllistnames = fulllistnames\n",
    "#         self.fulllistlabels = fulllistlabels\n",
    "#         self.list_IDs = list_IDs\n",
    "#         self.is_validation = is_validation\n",
    "#         self.batch_size = batch_size\n",
    "#         self.dim = dim\n",
    "#         self.n_channels = n_channels\n",
    "#         self.n_classes = n_classes\n",
    "#         self.valid = is_validation\n",
    "# #         self.on_epoch_end()\n",
    "#         self.indexes = np.arange(len(self.list_IDs))\n",
    "#         self.valid_index = 0\n",
    "\n",
    "#     def __len__(self):\n",
    "#         'Denotes the number of batches per epoch'\n",
    "#         return int(np.floor(len(self.list_IDs) / self.batch_size))-1 # = 8\n",
    "\n",
    "    \n",
    "    \n",
    "#     def __getitem__(self, index): # index = number of batch from 0 to __len__ \n",
    "#         if self.is_validation:    #if validation set\n",
    "#             indexes = self.indexes[self.valid_index*self.batch_size : (self.valid_index+1)*self.batch_size]            \n",
    "#             list_IDs_temp = [self.list_IDs[k] for k in indexes]\n",
    "#             X, y = self.__data_generation(list_IDs_temp)\n",
    "#         else: #if test set \n",
    "#             if index <= self.valid_index:\n",
    "#                 newindex = index +1\n",
    "#             else:\n",
    "#                 newindex = index\n",
    "#             indexes = self.indexes[newindex*self.batch_size:(newindex+1)*self.batch_size]\n",
    "#             list_IDs_temp = [self.list_IDs[k] for k in indexes]\n",
    "#             X, y = self.__data_generation(list_IDs_temp)\n",
    "#         return X, y\n",
    "\n",
    "    \n",
    "    \n",
    "#     def on_epoch_end(self):\n",
    "#         self.valid_index += 1\n",
    "\n",
    "        \n",
    "#     def __data_generation(self, list_IDs_temp):\n",
    "# #         X = np.empty((self.batch_size, *self.dim, self.n_channels))\n",
    "#         y = np.empty((self.batch_size), dtype=int)\n",
    "# #         X = np.arange(len(list_IDs_temp))\n",
    "# #         y = np.arange(len(list_IDs_temp))\n",
    "#         X = []\n",
    "# #         y = []\n",
    "# #       list_IDs_temp  11 2 31 124 ... 123 331 3312 size of batch size\n",
    "#         for i, ID in enumerate(list_IDs_temp):\n",
    "# #             Store sample\n",
    "# #             load from fulllistnames\n",
    "#             named= self.fulllistnames[ID]\n",
    "#             classnumber= self.fulllistlabels[ID]\n",
    "#             if classnumber == 0:\n",
    "#                 classnamed = \"Drones\"\n",
    "#             else:\n",
    "#                 classnamed = \"Birds\"\n",
    "# #             X[i] = \"/Users/mantesssa/Projects/nn/nn_tf/BirdVsDrone/\" + classnamed + named\n",
    "# #             X.append(\"/Users/mantesssa/Projects/nn/nn_tf/BirdVsDrone/\" + classnamed + named)\n",
    "# #             X[i,] = np.load(\"/Users/mantesssa/Projects/nn/nn_tf/BirdVsDrone/\" + classnamed + \"/\" + named,allow_pickle=True)\n",
    "# #             print(\"/Users/mantesssa/Projects/nn/nn_tf/BirdVsDrone/\" + classnamed + \"/\" + named)\n",
    "#             img = cv2.imread(\"/Users/mantesssa/Projects/nn/nn_tf/BirdVsDrone/\" + classnamed + \"/\" + named)\n",
    "#             RGB_img = cv2.cvtColor(img, cv2.COLOR_BGR2RGB)\n",
    "#             smallimgb = cv2.resize(RGB_img, (180,180),interpolation=cv2.INTER_CUBIC) \n",
    "# #             X[i,] = RGB_img\n",
    "#             X.append(smallimgb)\n",
    "            \n",
    "            \n",
    "#             y[i] = classnumber\n",
    "# #             y[i] = classnamed\n",
    "# #             y.append(classnamed)\n",
    "# #             y.append(classnumber)\n",
    "\n",
    "            \n",
    "# #             X[i,] = np.load(\"/Users/mantesssa/Projects/nn/nn_tf/BirdVsDrone/\" + classnamed + named)\n",
    "# #             X[i,] = np.load('data/' + ID + '.npy')\n",
    "# #             Store class\n",
    "# #             load from fulllistlabels\n",
    "# #             y[i] = self.labels[ID]\n",
    "#         print(y.shape)\n",
    "#         print(np.array(keras.utils.to_categorical(y, num_classes=self.n_classes)).shape)\n",
    "#         return np.array(X), keras.utils.to_categorical(y, num_classes=self.n_classes)\n",
    "# #         return X, keras.utils.to_categorical(y, num_classes=self.n_classes)\n",
    "        \n",
    "\n",
    "\n",
    "\n"
   ]
  },
  {
   "cell_type": "code",
   "execution_count": 153,
   "metadata": {
    "execution": {
     "iopub.execute_input": "2022-12-14T02:27:19.435695Z",
     "iopub.status.busy": "2022-12-14T02:27:19.435193Z",
     "iopub.status.idle": "2022-12-14T02:27:23.128506Z",
     "shell.execute_reply": "2022-12-14T02:27:23.127797Z"
    },
    "id": "fIR0kRZiI_AT"
   },
   "outputs": [
    {
     "name": "stdout",
     "output_type": "stream",
     "text": [
      "Found 826 files belonging to 2 classes.\n",
      "Using 661 files for training.\n",
      "Found 826 files belonging to 2 classes.\n",
      "Using 165 files for validation.\n"
     ]
    }
   ],
   "source": [
    "batch_size = 32\n",
    "img_height = 180\n",
    "img_width = 180\n",
    "\n",
    "\n",
    "train_ds = tf.keras.utils.image_dataset_from_directory(\n",
    "  data_dir,\n",
    "  validation_split=0.2,\n",
    "  subset=\"training\",\n",
    "  seed=123,\n",
    "  image_size=(img_height, img_width),\n",
    "  batch_size=batch_size)\n",
    "\n",
    "val_ds = tf.keras.utils.image_dataset_from_directory(\n",
    "  data_dir,\n",
    "  validation_split=0.2,\n",
    "  subset=\"validation\",\n",
    "  seed=123,\n",
    "  image_size=(img_height, img_width),\n",
    "  batch_size=batch_size)\n",
    "\n",
    "\n",
    "\n",
    "# img_generator = keras.preprocessing.image_dataset_from_directory(\n",
    "#     img_folder, \n",
    "#     batch_size=32, \n",
    "#     image_size=(224,224)\n",
    "# )\n",
    "\n",
    "# file_paths = train_ds.file_paths #may be  another way\n",
    "# print(file_paths)"
   ]
  },
  {
   "cell_type": "code",
   "execution_count": 154,
   "metadata": {},
   "outputs": [],
   "source": [
    "# for images, labels in train_ds.take(1):  # only take first element of dataset\n",
    "#     plt.imshow(images.numpy().astype(\"uint8\"))\n",
    "#     plt.title(class_names[labels])\n",
    "# #     numpy_images = images.numpy()\n",
    "# #     numpy_labels = labels.numpy()\n",
    "\n",
    "# plt.figure(figsize=(10, 10))\n",
    "# for images, labels in train_ds.take(1):\n",
    "#   plt.imshow(images[0].numpy().astype(\"uint8\"))\n",
    "#   plt.title(class_names[labels[0]])\n",
    "#   plt.axis(\"off\")\n",
    "# # labels[0]\n",
    "# images\n"
   ]
  },
  {
   "cell_type": "code",
   "execution_count": 155,
   "metadata": {
    "execution": {
     "iopub.execute_input": "2022-12-14T02:27:23.292023Z",
     "iopub.status.busy": "2022-12-14T02:27:23.291400Z",
     "iopub.status.idle": "2022-12-14T02:27:23.295074Z",
     "shell.execute_reply": "2022-12-14T02:27:23.294417Z"
    },
    "id": "ZHAxkHX5JD3k"
   },
   "outputs": [
    {
     "name": "stdout",
     "output_type": "stream",
     "text": [
      "['Birds', 'Drones']\n"
     ]
    }
   ],
   "source": [
    "class_names = train_ds.class_names\n",
    "print(class_names)\n",
    "\n",
    "num_classes = len(class_names)"
   ]
  },
  {
   "cell_type": "code",
   "execution_count": 156,
   "metadata": {
    "execution": {
     "iopub.execute_input": "2022-12-14T02:27:23.298434Z",
     "iopub.status.busy": "2022-12-14T02:27:23.297969Z",
     "iopub.status.idle": "2022-12-14T02:27:24.290205Z",
     "shell.execute_reply": "2022-12-14T02:27:24.289531Z"
    },
    "id": "wBmEA9c0JYes"
   },
   "outputs": [],
   "source": [
    "\n",
    "# plt.figure(figsize=(10, 10))\n",
    "# for images, labels in train_ds.take(1):\n",
    "#   for i in range(9):\n",
    "#     ax = plt.subplot(3, 3, i + 1)\n",
    "#     plt.imshow(images[i].numpy().astype(\"uint8\"))\n",
    "#     plt.title(class_names[labels[i]])\n",
    "#     plt.axis(\"off\")"
   ]
  },
  {
   "cell_type": "code",
   "execution_count": 157,
   "metadata": {
    "execution": {
     "iopub.execute_input": "2022-12-14T02:27:24.305825Z",
     "iopub.status.busy": "2022-12-14T02:27:24.305511Z",
     "iopub.status.idle": "2022-12-14T02:27:24.375988Z",
     "shell.execute_reply": "2022-12-14T02:27:24.375169Z"
    },
    "id": "2-MfMoenJi8s"
   },
   "outputs": [
    {
     "name": "stdout",
     "output_type": "stream",
     "text": [
      "(32, 180, 180, 3)\n",
      "(32,)\n"
     ]
    }
   ],
   "source": [
    "for image_batch, labels_batch in train_ds:\n",
    "  print(image_batch.shape)\n",
    "  print(labels_batch.shape)\n",
    "  break"
   ]
  },
  {
   "cell_type": "code",
   "execution_count": 158,
   "metadata": {
    "execution": {
     "iopub.execute_input": "2022-12-14T02:27:24.380073Z",
     "iopub.status.busy": "2022-12-14T02:27:24.379474Z",
     "iopub.status.idle": "2022-12-14T02:27:24.390876Z",
     "shell.execute_reply": "2022-12-14T02:27:24.390174Z"
    },
    "id": "nOjJSm7DKoZA"
   },
   "outputs": [],
   "source": [
    "AUTOTUNE = tf.data.AUTOTUNE\n",
    "# val_ds.shape # 'BatchDataset' object has no attribute 'shape'\n",
    "\n",
    "\n",
    "train_ds = train_ds.cache().shuffle(1000).prefetch(buffer_size=AUTOTUNE)\n",
    "val_ds = val_ds.cache().prefetch(buffer_size=AUTOTUNE)"
   ]
  },
  {
   "cell_type": "code",
   "execution_count": 159,
   "metadata": {
    "execution": {
     "iopub.execute_input": "2022-12-14T02:27:44.823628Z",
     "iopub.status.busy": "2022-12-14T02:27:44.823161Z",
     "iopub.status.idle": "2022-12-14T02:27:57.134214Z",
     "shell.execute_reply": "2022-12-14T02:27:57.133508Z"
    },
    "id": "7Z90k539S838"
   },
   "outputs": [],
   "source": [
    "# plt.figure(figsize=(10, 10))\n",
    "# for images, _ in train_ds.take(1):\n",
    "#   for i in range(9):\n",
    "#     augmented_images = data_augmentation(images)\n",
    "#     ax = plt.subplot(3, 3, i + 1)\n",
    "#     plt.imshow(augmented_images[0].numpy().astype(\"uint8\"))\n",
    "#     plt.axis(\"off\")"
   ]
  },
  {
   "cell_type": "code",
   "execution_count": 160,
   "metadata": {
    "execution": {
     "iopub.execute_input": "2022-12-14T02:27:57.144938Z",
     "iopub.status.busy": "2022-12-14T02:27:57.144361Z",
     "iopub.status.idle": "2022-12-14T02:27:58.000332Z",
     "shell.execute_reply": "2022-12-14T02:27:57.999658Z"
    },
    "id": "2Zeg8zsqXCsm"
   },
   "outputs": [],
   "source": [
    "data_augmentation = keras.Sequential(\n",
    "  [\n",
    "    layers.RandomFlip(\"horizontal\",\n",
    "                      input_shape=(img_height,\n",
    "                                  img_width,\n",
    "                                  3)),\n",
    "    layers.RandomRotation(0.12),\n",
    "    layers.RandomZoom(0.3),\n",
    "  ]\n",
    ")\n",
    "\n",
    "model = Sequential([\n",
    "  data_augmentation,\n",
    "  layers.Rescaling(1./255),\n",
    "  layers.Conv2D(16, 3, padding='same', activation='relu'),\n",
    "  layers.MaxPooling2D(),\n",
    "  layers.Conv2D(32, 3, padding='same', activation='relu'),\n",
    "  layers.MaxPooling2D(),\n",
    "  layers.Conv2D(64, 3, padding='same', activation='relu'),\n",
    "  layers.MaxPooling2D(),\n",
    "  layers.Dropout(0.2),\n",
    "  layers.Flatten(),\n",
    "  layers.Dense(128, activation='relu'),\n",
    "  layers.Dense(num_classes, name=\"outputs\")\n",
    "  # layers.Dense(128, activation='sigmoid'),\n",
    "  # layers.Dense(1, name=\"outputs\")\n",
    "\n",
    "])\n",
    "\n",
    "# model.summary()"
   ]
  },
  {
   "cell_type": "code",
   "execution_count": 161,
   "metadata": {
    "execution": {
     "iopub.execute_input": "2022-12-14T02:27:58.004431Z",
     "iopub.status.busy": "2022-12-14T02:27:58.003875Z",
     "iopub.status.idle": "2022-12-14T02:27:58.012323Z",
     "shell.execute_reply": "2022-12-14T02:27:58.011747Z"
    },
    "id": "EvyAINs9ZOmJ"
   },
   "outputs": [],
   "source": [
    "STEPS_PER_EPOCH = 80\n",
    "\n",
    "lr_schedule = tf.keras.optimizers.schedules.InverseTimeDecay(\n",
    "  0.001,\n",
    "  decay_steps=STEPS_PER_EPOCH*100,\n",
    "  decay_rate=1,\n",
    "  staircase=False)\n",
    "\n",
    "def get_optimizer():\n",
    "  return tf.keras.optimizers.Adam(lr_schedule)## Compile and train the model\n",
    "\n",
    "model.compile(optimizer='adam',\n",
    "# model.compile(optimizer=get_optimizer(),\n",
    "              # loss='binary_crossentropy', # error \n",
    "              # loss='categorical_crossentropy', # error \n",
    "              loss=tf.keras.losses.SparseCategoricalCrossentropy(from_logits=True),\n",
    "              metrics=['accuracy'])"
   ]
  },
  {
   "cell_type": "code",
   "execution_count": 162,
   "metadata": {
    "execution": {
     "iopub.execute_input": "2022-12-14T02:27:58.015504Z",
     "iopub.status.busy": "2022-12-14T02:27:58.015053Z",
     "iopub.status.idle": "2022-12-14T02:27:58.035841Z",
     "shell.execute_reply": "2022-12-14T02:27:58.035304Z"
    },
    "id": "wWLkKoKjZSoC"
   },
   "outputs": [],
   "source": [
    "# Generators\n",
    "#     def __init__(self, fulllistnames, fulllistlabels, list_IDs, is_validation=False, \n",
    "#                  batch_size=80, dim=(None, 180, 180, 3), n_channels=1, n_classes=2):\n",
    "\n",
    "# params = {'dim': (None, 180, 180, 3),\n",
    "#           'batch_size': 80,\n",
    "#           'n_classes': 2,\n",
    "#           'n_channels': 1,}\n",
    "\n",
    "\n",
    "# def __init__(self, fulllistnames, fulllistlabels, list_IDs, is_validation=False, batch_size=80, dim=(None, 180, 180, 3), n_channels=1, n_classes=2):\n",
    "\n",
    "# training_generator = DataGenerator(fulllistnames,fulllistlabels,shuffledlistofindexes,False, **params)\n",
    "# validation_generator = DataGenerator(fulllistnames,fulllistlabels,shuffledlistofindexes,True, **params)\n",
    "# print(shuffledlistofindexes)\n",
    "# Design model\n",
    "# model = Sequential()\n",
    "# [...] # Architecture\n",
    "# model.compile()\n",
    "\n",
    "# Train model on dataset\n",
    "# history = model.fit_generator(generator=training_generator,\n",
    "#                     validation_data=validation_generator)\n",
    "\n",
    "\n",
    "\n",
    "# model.fit_generator(generator=training_generator,\n",
    "#                     validation_data=validation_generator,\n",
    "#                     use_multiprocessing=True,\n",
    "#                     workers=6)# model.summary()\n",
    "\n",
    "\n",
    "# model.fit(training_generator,\n",
    "#                     validation_data=validation_generator,\n",
    "#                     use_multiprocessing=True,\n",
    "#                     workers=6)# model.summary()\n",
    "\n",
    "# model.fit(training_generator,\n",
    "#                     validation_data=validation_generator)\n",
    "\n",
    "\n"
   ]
  },
  {
   "cell_type": "code",
   "execution_count": 163,
   "metadata": {
    "execution": {
     "iopub.execute_input": "2022-12-14T02:27:58.048100Z",
     "iopub.status.busy": "2022-12-14T02:27:58.047473Z",
     "iopub.status.idle": "2022-12-14T02:30:03.122576Z",
     "shell.execute_reply": "2022-12-14T02:30:03.121754Z"
    },
    "id": "LWS-vvNaZDag"
   },
   "outputs": [
    {
     "name": "stdout",
     "output_type": "stream",
     "text": [
      "Epoch 1/15\n",
      "WARNING:tensorflow:Using a while_loop for converting RngReadAndSkip cause there is no registered converter for this op.\n",
      "WARNING:tensorflow:Using a while_loop for converting Bitcast cause there is no registered converter for this op.\n",
      "WARNING:tensorflow:Using a while_loop for converting Bitcast cause there is no registered converter for this op.\n",
      "WARNING:tensorflow:Using a while_loop for converting StatelessRandomUniformV2 cause there is no registered converter for this op.\n",
      "WARNING:tensorflow:Using a while_loop for converting ImageProjectiveTransformV3 cause there is no registered converter for this op.\n",
      "WARNING:tensorflow:Using a while_loop for converting RngReadAndSkip cause there is no registered converter for this op.\n",
      "WARNING:tensorflow:Using a while_loop for converting Bitcast cause there is no registered converter for this op.\n",
      "WARNING:tensorflow:Using a while_loop for converting Bitcast cause there is no registered converter for this op.\n",
      "WARNING:tensorflow:Using a while_loop for converting StatelessRandomUniformV2 cause there is no registered converter for this op.\n",
      "WARNING:tensorflow:Using a while_loop for converting ImageProjectiveTransformV3 cause there is no registered converter for this op.\n",
      "WARNING:tensorflow:Using a while_loop for converting RngReadAndSkip cause there is no registered converter for this op.\n",
      "WARNING:tensorflow:Using a while_loop for converting Bitcast cause there is no registered converter for this op.\n",
      "WARNING:tensorflow:Using a while_loop for converting Bitcast cause there is no registered converter for this op.\n",
      "WARNING:tensorflow:Using a while_loop for converting StatelessRandomUniformV2 cause there is no registered converter for this op.\n",
      "WARNING:tensorflow:Using a while_loop for converting ImageProjectiveTransformV3 cause there is no registered converter for this op.\n",
      "WARNING:tensorflow:Using a while_loop for converting RngReadAndSkip cause there is no registered converter for this op.\n",
      "WARNING:tensorflow:Using a while_loop for converting Bitcast cause there is no registered converter for this op.\n",
      "WARNING:tensorflow:Using a while_loop for converting Bitcast cause there is no registered converter for this op.\n",
      "WARNING:tensorflow:Using a while_loop for converting StatelessRandomUniformV2 cause there is no registered converter for this op.\n",
      "WARNING:tensorflow:Using a while_loop for converting ImageProjectiveTransformV3 cause there is no registered converter for this op.\n",
      "21/21 [==============================] - 22s 650ms/step - loss: 0.8131 - accuracy: 0.5930 - val_loss: 0.5831 - val_accuracy: 0.7394\n",
      "Epoch 2/15\n",
      "21/21 [==============================] - 13s 623ms/step - loss: 0.5369 - accuracy: 0.7519 - val_loss: 0.4616 - val_accuracy: 0.8000\n",
      "Epoch 3/15\n",
      "21/21 [==============================] - 13s 624ms/step - loss: 0.5011 - accuracy: 0.7610 - val_loss: 0.4653 - val_accuracy: 0.7636\n",
      "Epoch 4/15\n",
      "21/21 [==============================] - 13s 637ms/step - loss: 0.4628 - accuracy: 0.7837 - val_loss: 0.3761 - val_accuracy: 0.8424\n",
      "Epoch 5/15\n",
      "10/21 [=============>................] - ETA: 6s - loss: 0.4885 - accuracy: 0.7605"
     ]
    },
    {
     "ename": "KeyboardInterrupt",
     "evalue": "",
     "output_type": "error",
     "traceback": [
      "\u001b[0;31m---------------------------------------------------------------------------\u001b[0m",
      "\u001b[0;31mKeyboardInterrupt\u001b[0m                         Traceback (most recent call last)",
      "Cell \u001b[0;32mIn[163], line 2\u001b[0m\n\u001b[1;32m      1\u001b[0m epochs \u001b[39m=\u001b[39m \u001b[39m15\u001b[39m\n\u001b[0;32m----> 2\u001b[0m history \u001b[39m=\u001b[39m model\u001b[39m.\u001b[39;49mfit(\n\u001b[1;32m      3\u001b[0m   train_ds,\n\u001b[1;32m      4\u001b[0m   validation_data\u001b[39m=\u001b[39;49mval_ds,\n\u001b[1;32m      5\u001b[0m   epochs\u001b[39m=\u001b[39;49mepochs\n\u001b[1;32m      6\u001b[0m )\n",
      "File \u001b[0;32m~/.pyenv/versions/anaconda3-2022.10/envs/tf/lib/python3.10/site-packages/keras/utils/traceback_utils.py:65\u001b[0m, in \u001b[0;36mfilter_traceback.<locals>.error_handler\u001b[0;34m(*args, **kwargs)\u001b[0m\n\u001b[1;32m     63\u001b[0m filtered_tb \u001b[39m=\u001b[39m \u001b[39mNone\u001b[39;00m\n\u001b[1;32m     64\u001b[0m \u001b[39mtry\u001b[39;00m:\n\u001b[0;32m---> 65\u001b[0m     \u001b[39mreturn\u001b[39;00m fn(\u001b[39m*\u001b[39;49margs, \u001b[39m*\u001b[39;49m\u001b[39m*\u001b[39;49mkwargs)\n\u001b[1;32m     66\u001b[0m \u001b[39mexcept\u001b[39;00m \u001b[39mException\u001b[39;00m \u001b[39mas\u001b[39;00m e:\n\u001b[1;32m     67\u001b[0m     filtered_tb \u001b[39m=\u001b[39m _process_traceback_frames(e\u001b[39m.\u001b[39m__traceback__)\n",
      "File \u001b[0;32m~/.pyenv/versions/anaconda3-2022.10/envs/tf/lib/python3.10/site-packages/keras/engine/training.py:1564\u001b[0m, in \u001b[0;36mModel.fit\u001b[0;34m(self, x, y, batch_size, epochs, verbose, callbacks, validation_split, validation_data, shuffle, class_weight, sample_weight, initial_epoch, steps_per_epoch, validation_steps, validation_batch_size, validation_freq, max_queue_size, workers, use_multiprocessing)\u001b[0m\n\u001b[1;32m   1556\u001b[0m \u001b[39mwith\u001b[39;00m tf\u001b[39m.\u001b[39mprofiler\u001b[39m.\u001b[39mexperimental\u001b[39m.\u001b[39mTrace(\n\u001b[1;32m   1557\u001b[0m     \u001b[39m\"\u001b[39m\u001b[39mtrain\u001b[39m\u001b[39m\"\u001b[39m,\n\u001b[1;32m   1558\u001b[0m     epoch_num\u001b[39m=\u001b[39mepoch,\n\u001b[0;32m   (...)\u001b[0m\n\u001b[1;32m   1561\u001b[0m     _r\u001b[39m=\u001b[39m\u001b[39m1\u001b[39m,\n\u001b[1;32m   1562\u001b[0m ):\n\u001b[1;32m   1563\u001b[0m     callbacks\u001b[39m.\u001b[39mon_train_batch_begin(step)\n\u001b[0;32m-> 1564\u001b[0m     tmp_logs \u001b[39m=\u001b[39m \u001b[39mself\u001b[39;49m\u001b[39m.\u001b[39;49mtrain_function(iterator)\n\u001b[1;32m   1565\u001b[0m     \u001b[39mif\u001b[39;00m data_handler\u001b[39m.\u001b[39mshould_sync:\n\u001b[1;32m   1566\u001b[0m         context\u001b[39m.\u001b[39masync_wait()\n",
      "File \u001b[0;32m~/.pyenv/versions/anaconda3-2022.10/envs/tf/lib/python3.10/site-packages/tensorflow/python/util/traceback_utils.py:150\u001b[0m, in \u001b[0;36mfilter_traceback.<locals>.error_handler\u001b[0;34m(*args, **kwargs)\u001b[0m\n\u001b[1;32m    148\u001b[0m filtered_tb \u001b[39m=\u001b[39m \u001b[39mNone\u001b[39;00m\n\u001b[1;32m    149\u001b[0m \u001b[39mtry\u001b[39;00m:\n\u001b[0;32m--> 150\u001b[0m   \u001b[39mreturn\u001b[39;00m fn(\u001b[39m*\u001b[39;49margs, \u001b[39m*\u001b[39;49m\u001b[39m*\u001b[39;49mkwargs)\n\u001b[1;32m    151\u001b[0m \u001b[39mexcept\u001b[39;00m \u001b[39mException\u001b[39;00m \u001b[39mas\u001b[39;00m e:\n\u001b[1;32m    152\u001b[0m   filtered_tb \u001b[39m=\u001b[39m _process_traceback_frames(e\u001b[39m.\u001b[39m__traceback__)\n",
      "File \u001b[0;32m~/.pyenv/versions/anaconda3-2022.10/envs/tf/lib/python3.10/site-packages/tensorflow/python/eager/def_function.py:915\u001b[0m, in \u001b[0;36mFunction.__call__\u001b[0;34m(self, *args, **kwds)\u001b[0m\n\u001b[1;32m    912\u001b[0m compiler \u001b[39m=\u001b[39m \u001b[39m\"\u001b[39m\u001b[39mxla\u001b[39m\u001b[39m\"\u001b[39m \u001b[39mif\u001b[39;00m \u001b[39mself\u001b[39m\u001b[39m.\u001b[39m_jit_compile \u001b[39melse\u001b[39;00m \u001b[39m\"\u001b[39m\u001b[39mnonXla\u001b[39m\u001b[39m\"\u001b[39m\n\u001b[1;32m    914\u001b[0m \u001b[39mwith\u001b[39;00m OptionalXlaContext(\u001b[39mself\u001b[39m\u001b[39m.\u001b[39m_jit_compile):\n\u001b[0;32m--> 915\u001b[0m   result \u001b[39m=\u001b[39m \u001b[39mself\u001b[39;49m\u001b[39m.\u001b[39;49m_call(\u001b[39m*\u001b[39;49margs, \u001b[39m*\u001b[39;49m\u001b[39m*\u001b[39;49mkwds)\n\u001b[1;32m    917\u001b[0m new_tracing_count \u001b[39m=\u001b[39m \u001b[39mself\u001b[39m\u001b[39m.\u001b[39mexperimental_get_tracing_count()\n\u001b[1;32m    918\u001b[0m without_tracing \u001b[39m=\u001b[39m (tracing_count \u001b[39m==\u001b[39m new_tracing_count)\n",
      "File \u001b[0;32m~/.pyenv/versions/anaconda3-2022.10/envs/tf/lib/python3.10/site-packages/tensorflow/python/eager/def_function.py:947\u001b[0m, in \u001b[0;36mFunction._call\u001b[0;34m(self, *args, **kwds)\u001b[0m\n\u001b[1;32m    944\u001b[0m   \u001b[39mself\u001b[39m\u001b[39m.\u001b[39m_lock\u001b[39m.\u001b[39mrelease()\n\u001b[1;32m    945\u001b[0m   \u001b[39m# In this case we have created variables on the first call, so we run the\u001b[39;00m\n\u001b[1;32m    946\u001b[0m   \u001b[39m# defunned version which is guaranteed to never create variables.\u001b[39;00m\n\u001b[0;32m--> 947\u001b[0m   \u001b[39mreturn\u001b[39;00m \u001b[39mself\u001b[39;49m\u001b[39m.\u001b[39;49m_stateless_fn(\u001b[39m*\u001b[39;49margs, \u001b[39m*\u001b[39;49m\u001b[39m*\u001b[39;49mkwds)  \u001b[39m# pylint: disable=not-callable\u001b[39;00m\n\u001b[1;32m    948\u001b[0m \u001b[39melif\u001b[39;00m \u001b[39mself\u001b[39m\u001b[39m.\u001b[39m_stateful_fn \u001b[39mis\u001b[39;00m \u001b[39mnot\u001b[39;00m \u001b[39mNone\u001b[39;00m:\n\u001b[1;32m    949\u001b[0m   \u001b[39m# Release the lock early so that multiple threads can perform the call\u001b[39;00m\n\u001b[1;32m    950\u001b[0m   \u001b[39m# in parallel.\u001b[39;00m\n\u001b[1;32m    951\u001b[0m   \u001b[39mself\u001b[39m\u001b[39m.\u001b[39m_lock\u001b[39m.\u001b[39mrelease()\n",
      "File \u001b[0;32m~/.pyenv/versions/anaconda3-2022.10/envs/tf/lib/python3.10/site-packages/tensorflow/python/eager/function.py:2496\u001b[0m, in \u001b[0;36mFunction.__call__\u001b[0;34m(self, *args, **kwargs)\u001b[0m\n\u001b[1;32m   2493\u001b[0m \u001b[39mwith\u001b[39;00m \u001b[39mself\u001b[39m\u001b[39m.\u001b[39m_lock:\n\u001b[1;32m   2494\u001b[0m   (graph_function,\n\u001b[1;32m   2495\u001b[0m    filtered_flat_args) \u001b[39m=\u001b[39m \u001b[39mself\u001b[39m\u001b[39m.\u001b[39m_maybe_define_function(args, kwargs)\n\u001b[0;32m-> 2496\u001b[0m \u001b[39mreturn\u001b[39;00m graph_function\u001b[39m.\u001b[39;49m_call_flat(\n\u001b[1;32m   2497\u001b[0m     filtered_flat_args, captured_inputs\u001b[39m=\u001b[39;49mgraph_function\u001b[39m.\u001b[39;49mcaptured_inputs)\n",
      "File \u001b[0;32m~/.pyenv/versions/anaconda3-2022.10/envs/tf/lib/python3.10/site-packages/tensorflow/python/eager/function.py:1862\u001b[0m, in \u001b[0;36mConcreteFunction._call_flat\u001b[0;34m(self, args, captured_inputs, cancellation_manager)\u001b[0m\n\u001b[1;32m   1858\u001b[0m possible_gradient_type \u001b[39m=\u001b[39m gradients_util\u001b[39m.\u001b[39mPossibleTapeGradientTypes(args)\n\u001b[1;32m   1859\u001b[0m \u001b[39mif\u001b[39;00m (possible_gradient_type \u001b[39m==\u001b[39m gradients_util\u001b[39m.\u001b[39mPOSSIBLE_GRADIENT_TYPES_NONE\n\u001b[1;32m   1860\u001b[0m     \u001b[39mand\u001b[39;00m executing_eagerly):\n\u001b[1;32m   1861\u001b[0m   \u001b[39m# No tape is watching; skip to running the function.\u001b[39;00m\n\u001b[0;32m-> 1862\u001b[0m   \u001b[39mreturn\u001b[39;00m \u001b[39mself\u001b[39m\u001b[39m.\u001b[39m_build_call_outputs(\u001b[39mself\u001b[39;49m\u001b[39m.\u001b[39;49m_inference_function\u001b[39m.\u001b[39;49mcall(\n\u001b[1;32m   1863\u001b[0m       ctx, args, cancellation_manager\u001b[39m=\u001b[39;49mcancellation_manager))\n\u001b[1;32m   1864\u001b[0m forward_backward \u001b[39m=\u001b[39m \u001b[39mself\u001b[39m\u001b[39m.\u001b[39m_select_forward_and_backward_functions(\n\u001b[1;32m   1865\u001b[0m     args,\n\u001b[1;32m   1866\u001b[0m     possible_gradient_type,\n\u001b[1;32m   1867\u001b[0m     executing_eagerly)\n\u001b[1;32m   1868\u001b[0m forward_function, args_with_tangents \u001b[39m=\u001b[39m forward_backward\u001b[39m.\u001b[39mforward()\n",
      "File \u001b[0;32m~/.pyenv/versions/anaconda3-2022.10/envs/tf/lib/python3.10/site-packages/tensorflow/python/eager/function.py:499\u001b[0m, in \u001b[0;36m_EagerDefinedFunction.call\u001b[0;34m(self, ctx, args, cancellation_manager)\u001b[0m\n\u001b[1;32m    497\u001b[0m \u001b[39mwith\u001b[39;00m _InterpolateFunctionError(\u001b[39mself\u001b[39m):\n\u001b[1;32m    498\u001b[0m   \u001b[39mif\u001b[39;00m cancellation_manager \u001b[39mis\u001b[39;00m \u001b[39mNone\u001b[39;00m:\n\u001b[0;32m--> 499\u001b[0m     outputs \u001b[39m=\u001b[39m execute\u001b[39m.\u001b[39;49mexecute(\n\u001b[1;32m    500\u001b[0m         \u001b[39mstr\u001b[39;49m(\u001b[39mself\u001b[39;49m\u001b[39m.\u001b[39;49msignature\u001b[39m.\u001b[39;49mname),\n\u001b[1;32m    501\u001b[0m         num_outputs\u001b[39m=\u001b[39;49m\u001b[39mself\u001b[39;49m\u001b[39m.\u001b[39;49m_num_outputs,\n\u001b[1;32m    502\u001b[0m         inputs\u001b[39m=\u001b[39;49margs,\n\u001b[1;32m    503\u001b[0m         attrs\u001b[39m=\u001b[39;49mattrs,\n\u001b[1;32m    504\u001b[0m         ctx\u001b[39m=\u001b[39;49mctx)\n\u001b[1;32m    505\u001b[0m   \u001b[39melse\u001b[39;00m:\n\u001b[1;32m    506\u001b[0m     outputs \u001b[39m=\u001b[39m execute\u001b[39m.\u001b[39mexecute_with_cancellation(\n\u001b[1;32m    507\u001b[0m         \u001b[39mstr\u001b[39m(\u001b[39mself\u001b[39m\u001b[39m.\u001b[39msignature\u001b[39m.\u001b[39mname),\n\u001b[1;32m    508\u001b[0m         num_outputs\u001b[39m=\u001b[39m\u001b[39mself\u001b[39m\u001b[39m.\u001b[39m_num_outputs,\n\u001b[0;32m   (...)\u001b[0m\n\u001b[1;32m    511\u001b[0m         ctx\u001b[39m=\u001b[39mctx,\n\u001b[1;32m    512\u001b[0m         cancellation_manager\u001b[39m=\u001b[39mcancellation_manager)\n",
      "File \u001b[0;32m~/.pyenv/versions/anaconda3-2022.10/envs/tf/lib/python3.10/site-packages/tensorflow/python/eager/execute.py:54\u001b[0m, in \u001b[0;36mquick_execute\u001b[0;34m(op_name, num_outputs, inputs, attrs, ctx, name)\u001b[0m\n\u001b[1;32m     52\u001b[0m \u001b[39mtry\u001b[39;00m:\n\u001b[1;32m     53\u001b[0m   ctx\u001b[39m.\u001b[39mensure_initialized()\n\u001b[0;32m---> 54\u001b[0m   tensors \u001b[39m=\u001b[39m pywrap_tfe\u001b[39m.\u001b[39;49mTFE_Py_Execute(ctx\u001b[39m.\u001b[39;49m_handle, device_name, op_name,\n\u001b[1;32m     55\u001b[0m                                       inputs, attrs, num_outputs)\n\u001b[1;32m     56\u001b[0m \u001b[39mexcept\u001b[39;00m core\u001b[39m.\u001b[39m_NotOkStatusException \u001b[39mas\u001b[39;00m e:\n\u001b[1;32m     57\u001b[0m   \u001b[39mif\u001b[39;00m name \u001b[39mis\u001b[39;00m \u001b[39mnot\u001b[39;00m \u001b[39mNone\u001b[39;00m:\n",
      "\u001b[0;31mKeyboardInterrupt\u001b[0m: "
     ]
    }
   ],
   "source": [
    "\n",
    "epochs = 15\n",
    "history = model.fit(\n",
    "  train_ds,\n",
    "  validation_data=val_ds,\n",
    "  epochs=epochs\n",
    ")"
   ]
  },
  {
   "cell_type": "markdown",
   "metadata": {
    "id": "Lkdl8VsBbZOu"
   },
   "source": [
    "## Visualize training results\n",
    "\n",
    "After applying data augmentation and `tf.keras.layers.Dropout`, there is less overfitting than before, and training and validation accuracy are closer aligned:"
   ]
  },
  {
   "cell_type": "code",
   "execution_count": 48,
   "metadata": {
    "execution": {
     "iopub.execute_input": "2022-12-14T02:30:03.126342Z",
     "iopub.status.busy": "2022-12-14T02:30:03.126059Z",
     "iopub.status.idle": "2022-12-14T02:30:03.445383Z",
     "shell.execute_reply": "2022-12-14T02:30:03.444688Z"
    },
    "id": "dduoLfKsZVIA"
   },
   "outputs": [
    {
     "data": {
      "image/png": "[encoded data removed]",
      "text/plain": [
       "<Figure size 800x800 with 2 Axes>"
      ]
     },
     "metadata": {},
     "output_type": "display_data"
    }
   ],
   "source": [
    "acc = history.history['accuracy']\n",
    "val_acc = history.history['val_accuracy']\n",
    "\n",
    "loss = history.history['loss']\n",
    "val_loss = history.history['val_loss']\n",
    "\n",
    "epochs_range = range(epochs)\n",
    "\n",
    "plt.figure(figsize=(8, 8))\n",
    "plt.subplot(1, 2, 1)\n",
    "plt.plot(epochs_range, acc, label='Training Accuracy')\n",
    "plt.plot(epochs_range, val_acc, label='Validation Accuracy')\n",
    "plt.legend(loc='lower right')\n",
    "plt.title('Training and Validation Accuracy')\n",
    "\n",
    "plt.subplot(1, 2, 2)\n",
    "plt.plot(epochs_range, loss, label='Training Loss')\n",
    "plt.plot(epochs_range, val_loss, label='Validation Loss')\n",
    "plt.legend(loc='upper right')\n",
    "plt.title('Training and Validation Loss')\n",
    "plt.show()"
   ]
  },
  {
   "cell_type": "markdown",
   "metadata": {
    "id": "dtv5VbaVb-3W"
   },
   "source": [
    "## Predict on new data"
   ]
  },
  {
   "cell_type": "markdown",
   "metadata": {
    "id": "10buWpJbcCQz"
   },
   "source": [
    "Use your model to classify an image that wasn't included in the training or validation sets."
   ]
  },
  {
   "cell_type": "markdown",
   "metadata": {
    "id": "NKgMZ4bDcHf7"
   },
   "source": [
    "Note: Data augmentation and dropout layers are inactive at inference time."
   ]
  },
  {
   "cell_type": "code",
   "execution_count": 60,
   "metadata": {
    "execution": {
     "iopub.execute_input": "2022-12-14T02:30:03.449539Z",
     "iopub.status.busy": "2022-12-14T02:30:03.449245Z",
     "iopub.status.idle": "2022-12-14T02:30:03.691777Z",
     "shell.execute_reply": "2022-12-14T02:30:03.691088Z"
    },
    "id": "dC40sRITBSsQ"
   },
   "outputs": [
    {
     "name": "stdout",
     "output_type": "stream",
     "text": [
      "1/1 [==============================] - 0s 27ms/step\n",
      "This image most likely belongs to Drones with a 99.53% confidence.\n"
     ]
    }
   ],
   "source": [
    "# sunflower_url = \"https://storage.googleapis.com/download.tensorflow.org/example_images/592px-Red_sunflower.jpg\"\n",
    "# sunflower_path = tf.keras.utils.get_file('Red_sunflower', origin=sunflower_url)\n",
    "\n",
    "drone1_path = \"/Users/mantesssa/Projects/nn/nn_tf/How-Long-Can-a-Drone-Stay-in-the-Sky_hero.jpeg\"\n",
    "drone2_path = \"/Users/mantesssa/Projects/nn/nn_tf/drone_opener.jpeg\"\n",
    "bird1_path = \"/Users/mantesssa/Projects/nn/nn_tf/Egret-to-Sunset.jpeg\"\n",
    "\n",
    "input_img = drone1_path\n",
    "\n",
    "img = tf.keras.utils.load_img(\n",
    "    input_img, target_size=(img_height, img_width)\n",
    ")\n",
    "\n",
    "img_array = tf.keras.utils.img_to_array(img)\n",
    "img_array = tf.expand_dims(img_array, 0) # Create a batch\n",
    "\n",
    "predictions = model.predict(img_array)\n",
    "score = tf.nn.softmax(predictions[0])\n",
    "\n",
    "print(\n",
    "    \"This image most likely belongs to {} with a {:.2f}% confidence.\"\n",
    "    .format(class_names[np.argmax(score)], 100 * np.max(score))\n",
    ")\n",
    "\n",
    "# it is work !!!"
   ]
  },
  {
   "cell_type": "markdown",
   "metadata": {
    "id": "aOc3PZ2N2r18"
   },
   "source": [
    "## Use TensorFlow Lite\n",
    "\n",
    "TensorFlow Lite is a set of tools that enables on-device machine learning by helping developers run their models on mobile, embedded, and edge devices."
   ]
  },
  {
   "cell_type": "markdown",
   "metadata": {
    "id": "cThu25rh4LPP"
   },
   "source": [
    "### Convert the Keras Sequential model to a TensorFlow Lite model\n",
    "\n",
    "To use the trained model with on-device applications, first [convert it](https://www.tensorflow.org/lite/models/convert) to a smaller and more efficient model format called a [TensorFlow Lite](https://www.tensorflow.org/lite/) model.\n",
    "\n",
    "In this example, take the trained Keras Sequential model and use `tf.lite.TFLiteConverter.from_keras_model` to generate a [TensorFlow Lite](https://www.tensorflow.org/lite/) model:"
   ]
  },
  {
   "cell_type": "code",
   "execution_count": 65,
   "metadata": {
    "execution": {
     "iopub.execute_input": "2022-12-14T02:30:03.695360Z",
     "iopub.status.busy": "2022-12-14T02:30:03.695082Z",
     "iopub.status.idle": "2022-12-14T02:30:15.912363Z",
     "shell.execute_reply": "2022-12-14T02:30:15.911671Z"
    },
    "id": "mXo6ftuL2ufx"
   },
   "outputs": [
    {
     "name": "stdout",
     "output_type": "stream",
     "text": [
      "WARNING:tensorflow:Using a while_loop for converting RngReadAndSkip cause there is no registered converter for this op.\n",
      "WARNING:tensorflow:Using a while_loop for converting Bitcast cause there is no registered converter for this op.\n",
      "WARNING:tensorflow:Using a while_loop for converting Bitcast cause there is no registered converter for this op.\n",
      "WARNING:tensorflow:Using a while_loop for converting StatelessRandomUniformV2 cause there is no registered converter for this op.\n",
      "WARNING:tensorflow:Using a while_loop for converting ImageProjectiveTransformV3 cause there is no registered converter for this op.\n",
      "WARNING:tensorflow:Using a while_loop for converting RngReadAndSkip cause there is no registered converter for this op.\n",
      "WARNING:tensorflow:Using a while_loop for converting Bitcast cause there is no registered converter for this op.\n",
      "WARNING:tensorflow:Using a while_loop for converting Bitcast cause there is no registered converter for this op.\n",
      "WARNING:tensorflow:Using a while_loop for converting StatelessRandomUniformV2 cause there is no registered converter for this op.\n",
      "WARNING:tensorflow:Using a while_loop for converting ImageProjectiveTransformV3 cause there is no registered converter for this op.\n",
      "WARNING:tensorflow:Using a while_loop for converting RngReadAndSkip cause there is no registered converter for this op.\n",
      "WARNING:tensorflow:Using a while_loop for converting Bitcast cause there is no registered converter for this op.\n",
      "WARNING:tensorflow:Using a while_loop for converting Bitcast cause there is no registered converter for this op.\n",
      "WARNING:tensorflow:Using a while_loop for converting StatelessRandomUniformV2 cause there is no registered converter for this op.\n",
      "WARNING:tensorflow:Using a while_loop for converting ImageProjectiveTransformV3 cause there is no registered converter for this op.\n",
      "WARNING:tensorflow:Using a while_loop for converting RngReadAndSkip cause there is no registered converter for this op.\n",
      "WARNING:tensorflow:Using a while_loop for converting Bitcast cause there is no registered converter for this op.\n",
      "WARNING:tensorflow:Using a while_loop for converting Bitcast cause there is no registered converter for this op.\n",
      "WARNING:tensorflow:Using a while_loop for converting StatelessRandomUniformV2 cause there is no registered converter for this op.\n",
      "WARNING:tensorflow:Using a while_loop for converting ImageProjectiveTransformV3 cause there is no registered converter for this op.\n",
      "WARNING:tensorflow:Using a while_loop for converting RngReadAndSkip cause there is no registered converter for this op.\n",
      "WARNING:tensorflow:Using a while_loop for converting Bitcast cause there is no registered converter for this op.\n",
      "WARNING:tensorflow:Using a while_loop for converting Bitcast cause there is no registered converter for this op.\n",
      "WARNING:tensorflow:Using a while_loop for converting StatelessRandomUniformV2 cause there is no registered converter for this op.\n",
      "WARNING:tensorflow:Using a while_loop for converting ImageProjectiveTransformV3 cause there is no registered converter for this op.\n",
      "WARNING:tensorflow:Using a while_loop for converting RngReadAndSkip cause there is no registered converter for this op.\n",
      "WARNING:tensorflow:Using a while_loop for converting Bitcast cause there is no registered converter for this op.\n",
      "WARNING:tensorflow:Using a while_loop for converting Bitcast cause there is no registered converter for this op.\n",
      "WARNING:tensorflow:Using a while_loop for converting StatelessRandomUniformV2 cause there is no registered converter for this op.\n",
      "WARNING:tensorflow:Using a while_loop for converting ImageProjectiveTransformV3 cause there is no registered converter for this op.\n",
      "WARNING:tensorflow:Using a while_loop for converting RngReadAndSkip cause there is no registered converter for this op.\n",
      "WARNING:tensorflow:Using a while_loop for converting Bitcast cause there is no registered converter for this op.\n",
      "WARNING:tensorflow:Using a while_loop for converting Bitcast cause there is no registered converter for this op.\n",
      "WARNING:tensorflow:Using a while_loop for converting StatelessRandomUniformV2 cause there is no registered converter for this op.\n",
      "WARNING:tensorflow:Using a while_loop for converting ImageProjectiveTransformV3 cause there is no registered converter for this op.\n",
      "WARNING:tensorflow:Using a while_loop for converting RngReadAndSkip cause there is no registered converter for this op.\n",
      "WARNING:tensorflow:Using a while_loop for converting Bitcast cause there is no registered converter for this op.\n",
      "WARNING:tensorflow:Using a while_loop for converting Bitcast cause there is no registered converter for this op.\n",
      "WARNING:tensorflow:Using a while_loop for converting StatelessRandomUniformV2 cause there is no registered converter for this op.\n",
      "WARNING:tensorflow:Using a while_loop for converting ImageProjectiveTransformV3 cause there is no registered converter for this op.\n"
     ]
    },
    {
     "name": "stderr",
     "output_type": "stream",
     "text": [
      "WARNING:absl:Found untraced functions such as _jit_compiled_convolution_op, _jit_compiled_convolution_op, _jit_compiled_convolution_op while saving (showing 3 of 3). These functions will not be directly callable after loading.\n"
     ]
    },
    {
     "name": "stdout",
     "output_type": "stream",
     "text": [
      "INFO:tensorflow:Assets written to: /var/folders/_z/tsmfrc295jx4dgmbsc_4z53w0000gn/T/tmp3fq39m7z/assets\n"
     ]
    },
    {
     "name": "stderr",
     "output_type": "stream",
     "text": [
      "INFO:tensorflow:Assets written to: /var/folders/_z/tsmfrc295jx4dgmbsc_4z53w0000gn/T/tmp3fq39m7z/assets\n",
      "2023-03-11 15:50:59.445453: W tensorflow/compiler/mlir/lite/python/tf_tfl_flatbuffer_helpers.cc:362] Ignored output_format.\n",
      "2023-03-11 15:50:59.445502: W tensorflow/compiler/mlir/lite/python/tf_tfl_flatbuffer_helpers.cc:365] Ignored drop_control_dependency.\n",
      "2023-03-11 15:50:59.450257: I tensorflow/cc/saved_model/reader.cc:45] Reading SavedModel from: /var/folders/_z/tsmfrc295jx4dgmbsc_4z53w0000gn/T/tmp3fq39m7z\n",
      "2023-03-11 15:50:59.472855: I tensorflow/cc/saved_model/reader.cc:89] Reading meta graph with tags { serve }\n",
      "2023-03-11 15:50:59.472892: I tensorflow/cc/saved_model/reader.cc:130] Reading SavedModel debug info (if present) from: /var/folders/_z/tsmfrc295jx4dgmbsc_4z53w0000gn/T/tmp3fq39m7z\n",
      "2023-03-11 15:50:59.556036: I tensorflow/compiler/mlir/mlir_graph_optimization_pass.cc:354] MLIR V1 optimization pass is not enabled\n",
      "2023-03-11 15:50:59.570816: I tensorflow/cc/saved_model/loader.cc:229] Restoring SavedModel bundle.\n",
      "2023-03-11 15:50:59.764181: I tensorflow/cc/saved_model/loader.cc:213] Running initialization op on SavedModel bundle at path: /var/folders/_z/tsmfrc295jx4dgmbsc_4z53w0000gn/T/tmp3fq39m7z\n",
      "2023-03-11 15:50:59.833212: I tensorflow/cc/saved_model/loader.cc:305] SavedModel load for tags { serve }; Status: success: OK. Took 383295 microseconds.\n",
      "2023-03-11 15:51:00.130855: I tensorflow/compiler/mlir/tensorflow/utils/dump_mlir_util.cc:268] disabling MLIR crash reproducer, set env var `MLIR_CRASH_REPRODUCER_DIRECTORY` to enable.\n"
     ]
    }
   ],
   "source": [
    "# Convert the model.\n",
    "converter = tf.lite.TFLiteConverter.from_keras_model(model)\n",
    "tflite_model = converter.convert()\n",
    "\n",
    "# Save the model.\n",
    "with open('model.tflite', 'wb') as f:\n",
    "  f.write(tflite_model)"
   ]
  },
  {
   "cell_type": "markdown",
   "metadata": {
    "id": "4R26OU4gGKhh"
   },
   "source": [
    "The TensorFlow Lite model you saved in the previous step can contain several function signatures. The Keras model converter API uses the default signature automatically. Learn more about [TensorFlow Lite signatures](https://www.tensorflow.org/lite/guide/signatures)."
   ]
  },
  {
   "cell_type": "markdown",
   "metadata": {
    "id": "7fjQfXaV2l-5"
   },
   "source": [
    "### Run the TensorFlow Lite model\n",
    "\n",
    "You can access the TensorFlow Lite saved model signatures in Python via the `tf.lite.Interpreter` class.\n",
    "\n",
    "Load the model with the `Interpreter`:"
   ]
  },
  {
   "cell_type": "code",
   "execution_count": 67,
   "metadata": {
    "execution": {
     "iopub.execute_input": "2022-12-14T02:30:15.916056Z",
     "iopub.status.busy": "2022-12-14T02:30:15.915783Z",
     "iopub.status.idle": "2022-12-14T02:30:15.919626Z",
     "shell.execute_reply": "2022-12-14T02:30:15.919023Z"
    },
    "id": "cHYcip_FOaHq"
   },
   "outputs": [],
   "source": [
    "TF_MODEL_FILE_PATH = 'model.tflite' # The default path to the saved TensorFlow Lite model\n",
    "\n",
    "interpreter = tf.lite.Interpreter(model_path=TF_MODEL_FILE_PATH)"
   ]
  },
  {
   "cell_type": "markdown",
   "metadata": {
    "id": "nPUXY6BdHDHo"
   },
   "source": [
    "Print the signatures from the converted model to obtain the names of the inputs (and outputs):\n"
   ]
  },
  {
   "cell_type": "code",
   "execution_count": 68,
   "metadata": {
    "execution": {
     "iopub.execute_input": "2022-12-14T02:30:15.922449Z",
     "iopub.status.busy": "2022-12-14T02:30:15.922224Z",
     "iopub.status.idle": "2022-12-14T02:30:15.926351Z",
     "shell.execute_reply": "2022-12-14T02:30:15.925761Z"
    },
    "id": "ZdDl00E2OaHq"
   },
   "outputs": [
    {
     "data": {
      "text/plain": [
       "{'serving_default': {'inputs': ['sequential_1_input'], 'outputs': ['outputs']}}"
      ]
     },
     "execution_count": 68,
     "metadata": {},
     "output_type": "execute_result"
    }
   ],
   "source": [
    "interpreter.get_signature_list()"
   ]
  },
  {
   "cell_type": "markdown",
   "metadata": {
    "id": "4eVFqT0je3YG"
   },
   "source": [
    "In this example, you have one default signature called `serving_default`. In addition, the name of the `'inputs'` is `'sequential_1_input'`, while the `'outputs'` are called `'outputs'`. You can look up these first and last Keras layer names when running `Model.summary`, as demonstrated earlier in this tutorial.\n",
    "\n",
    "Now you can test the loaded TensorFlow Model by performing inference on a sample image with `tf.lite.Interpreter.get_signature_runner` by passing the signature name as follows:"
   ]
  },
  {
   "cell_type": "code",
   "execution_count": 69,
   "metadata": {
    "execution": {
     "iopub.execute_input": "2022-12-14T02:30:15.929681Z",
     "iopub.status.busy": "2022-12-14T02:30:15.929024Z",
     "iopub.status.idle": "2022-12-14T02:30:15.933523Z",
     "shell.execute_reply": "2022-12-14T02:30:15.932923Z"
    },
    "id": "yFoT_7W_OaHq"
   },
   "outputs": [
    {
     "data": {
      "text/plain": [
       "<tensorflow.lite.python.interpreter.SignatureRunner at 0x7f9bad2f72e0>"
      ]
     },
     "execution_count": 69,
     "metadata": {},
     "output_type": "execute_result"
    }
   ],
   "source": [
    "classify_lite = interpreter.get_signature_runner('serving_default')\n",
    "classify_lite"
   ]
  },
  {
   "cell_type": "markdown",
   "metadata": {
    "id": "b1mfRcBOnEx0"
   },
   "source": [
    "Similar to what you did earlier in the tutorial, you can use the TensorFlow Lite model to classify images that weren't included in the training or validation sets.\n",
    "\n",
    "You have already tensorized that image and saved it as `img_array`. Now, pass it to the first argument (the name of the `'inputs'`) of the loaded TensorFlow Lite model (`predictions_lite`), compute softmax activations, and then print the prediction for the class with the highest computed probability."
   ]
  },
  {
   "cell_type": "code",
   "execution_count": 70,
   "metadata": {
    "execution": {
     "iopub.execute_input": "2022-12-14T02:30:15.936458Z",
     "iopub.status.busy": "2022-12-14T02:30:15.936224Z",
     "iopub.status.idle": "2022-12-14T02:30:15.947613Z",
     "shell.execute_reply": "2022-12-14T02:30:15.947060Z"
    },
    "id": "sEqR27YcnFvc"
   },
   "outputs": [],
   "source": [
    "predictions_lite = classify_lite(sequential_1_input=img_array)['outputs']\n",
    "score_lite = tf.nn.softmax(predictions_lite)"
   ]
  },
  {
   "cell_type": "code",
   "execution_count": 71,
   "metadata": {
    "execution": {
     "iopub.execute_input": "2022-12-14T02:30:15.950761Z",
     "iopub.status.busy": "2022-12-14T02:30:15.950500Z",
     "iopub.status.idle": "2022-12-14T02:30:15.954689Z",
     "shell.execute_reply": "2022-12-14T02:30:15.954124Z"
    },
    "id": "ZKP_GFeKUWb5"
   },
   "outputs": [
    {
     "name": "stdout",
     "output_type": "stream",
     "text": [
      "This image most likely belongs to sunflowers with a 94.85 percent confidence.\n"
     ]
    }
   ],
   "source": [
    "print(\n",
    "    \"This image most likely belongs to {} with a {:.2f} percent confidence.\"\n",
    "    .format(class_names[np.argmax(score_lite)], 100 * np.max(score_lite))\n",
    ")"
   ]
  },
  {
   "cell_type": "markdown",
   "metadata": {
    "id": "Poz_iYgeUg_U"
   },
   "source": [
    "The prediction generated by the lite model should be almost identical to the predictions generated by the original model:"
   ]
  },
  {
   "cell_type": "code",
   "execution_count": 37,
   "metadata": {
    "execution": {
     "iopub.execute_input": "2022-12-14T02:30:15.957686Z",
     "iopub.status.busy": "2022-12-14T02:30:15.957453Z",
     "iopub.status.idle": "2022-12-14T02:30:15.961067Z",
     "shell.execute_reply": "2022-12-14T02:30:15.960439Z"
    },
    "id": "InXXDJL8UYC1"
   },
   "outputs": [
    {
     "name": "stdout",
     "output_type": "stream",
     "text": [
      "1.4305115e-06\n"
     ]
    }
   ],
   "source": [
    "print(np.max(np.abs(predictions - predictions_lite)))"
   ]
  },
  {
   "cell_type": "markdown",
   "metadata": {
    "id": "5hJzY8XijM7N"
   },
   "source": [
    "Of the five classes—`'daisy'`, `'dandelion'`, `'roses'`, `'sunflowers'`, and `'tulips'`—the model should predict the image belongs to sunflowers, which is the same result as before the TensorFlow Lite conversion.\n"
   ]
  },
  {
   "cell_type": "markdown",
   "metadata": {
    "id": "1RlfCY9v2_ir"
   },
   "source": [
    "## Next steps\n",
    "\n",
    "This tutorial showed how to train a model for image classification, test it, convert it to the TensorFlow Lite format for on-device applications (such as an image classification app), and perform inference with the TensorFlow Lite model with the Python API.\n",
    "\n",
    "You can learn more about TensorFlow Lite through [tutorials](https://www.tensorflow.org/lite/tutorials) and [guides](https://www.tensorflow.org/lite/guide)."
   ]
  }
 ],
 "metadata": {
  "accelerator": "GPU",
  "colab": {
   "collapsed_sections": [],
   "name": "classification.ipynb",
   "provenance": [],
   "toc_visible": true
  },
  "kernelspec": {
   "display_name": "Python 3 (ipykernel)",
   "language": "python",
   "name": "python3"
  },
  "language_info": {
   "codemirror_mode": {
    "name": "ipython",
    "version": 3
   },
   "file_extension": ".py",
   "mimetype": "text/x-python",
   "name": "python",
   "nbconvert_exporter": "python",
   "pygments_lexer": "ipython3",
   "version": "3.10.9"
  }
 },
 "nbformat": 4,
 "nbformat_minor": 1
}
