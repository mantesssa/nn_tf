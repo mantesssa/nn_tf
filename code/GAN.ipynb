{
 "cells": [
  {
   "cell_type": "code",
   "execution_count": null,
   "metadata": {},
   "outputs": [],
   "source": []
  },
  {
   "cell_type": "code",
   "execution_count": null,
   "metadata": {},
   "outputs": [],
   "source": [
    "noise_size = 110\n",
    "def build_generator():\n",
    "    noise = Input(shape=(noise_size,))\n",
    "    x = Dense(noise_size,activation=None)(noise)\n",
    "    x = Dense(7*7*noise_size, activation='relu')(x)\n",
    "    x = Reshape((7,7,noise_size))(x)\n",
    "    x = Conv2DTranspose(128, (4, 4), strides=(2, 2), padding=\"same\",activation='relu')(x)\n",
    "    x = Conv2DTranspose(128, (4, 4), strides=(2, 2), padding=\"same\",activation='relu')(x)\n",
    "    output = Conv2D(1, (7, 7), padding=\"same\", activation=\"tanh\") #  [none,28,28,1] ,   tanh\n",
    "    return Model(noise,output)"
   ]
  }
 ],
 "metadata": {
  "language_info": {
   "name": "python"
  },
  "orig_nbformat": 4
 },
 "nbformat": 4,
 "nbformat_minor": 2
}
